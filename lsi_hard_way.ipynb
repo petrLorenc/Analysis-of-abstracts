{
 "cells": [
  {
   "cell_type": "code",
   "execution_count": 1,
   "metadata": {
    "collapsed": true,
    "deletable": true,
    "editable": true
   },
   "outputs": [],
   "source": [
    "import pickle\n",
    "data = pickle.load(open(\"data/data.plk\", \"rb\"))"
   ]
  },
  {
   "cell_type": "code",
   "execution_count": 2,
   "metadata": {
    "collapsed": false,
    "deletable": true,
    "editable": true
   },
   "outputs": [
    {
     "data": {
      "text/plain": [
       "4351"
      ]
     },
     "execution_count": 2,
     "metadata": {},
     "output_type": "execute_result"
    }
   ],
   "source": [
    "len(data)"
   ]
  },
  {
   "cell_type": "code",
   "execution_count": 3,
   "metadata": {
    "collapsed": true,
    "deletable": true,
    "editable": true
   },
   "outputs": [],
   "source": [
    "from sklearn.feature_extraction.text import CountVectorizer\n",
    "from sklearn.feature_extraction.text import TfidfTransformer\n",
    "import nltk\n",
    "from nltk.stem import WordNetLemmatizer\n",
    "from nltk.corpus import wordnet\n",
    "from nltk.corpus import stopwords\n",
    "\n",
    "\n",
    "wordnet_lemmatizer = WordNetLemmatizer()"
   ]
  },
  {
   "cell_type": "code",
   "execution_count": 4,
   "metadata": {
    "collapsed": false,
    "deletable": true,
    "editable": true,
    "scrolled": true
   },
   "outputs": [],
   "source": [
    "def get_lemmatized_words(sentence):\n",
    "    _temp = []\n",
    "    tokens = nltk.word_tokenize(sentence)\n",
    "    lmtzr = WordNetLemmatizer()\n",
    "    \n",
    "    for word, token in nltk.pos_tag(tokens):\n",
    "        if word.strip().lower() not in stopwords.words('english') and word.strip().lower().isalnum() and len(word.strip().lower()) > 1:\n",
    "            _temp.append(lmtzr.lemmatize(word.strip().lower(), get_wordnet_pos(token)))\n",
    "    return _temp"
   ]
  },
  {
   "cell_type": "code",
   "execution_count": 5,
   "metadata": {
    "collapsed": true,
    "deletable": true,
    "editable": true
   },
   "outputs": [],
   "source": [
    "def get_wordnet_pos(treebank_tag):\n",
    "\n",
    "    if treebank_tag.startswith('J'):\n",
    "        return wordnet.ADJ\n",
    "    elif treebank_tag.startswith('V'):\n",
    "        return wordnet.VERB\n",
    "    elif treebank_tag.startswith('N'):\n",
    "        return wordnet.NOUN\n",
    "    elif treebank_tag.startswith('R'):\n",
    "        return wordnet.ADV\n",
    "    else:\n",
    "        return wordnet.NOUN"
   ]
  },
  {
   "cell_type": "code",
   "execution_count": 11,
   "metadata": {
    "collapsed": false,
    "deletable": true,
    "editable": true
   },
   "outputs": [
    {
     "data": {
      "text/plain": [
       "['salzella declarative language music generation',\n",
       " 'application illustrative explode view 3d model']"
      ]
     },
     "execution_count": 11,
     "metadata": {},
     "output_type": "execute_result"
    }
   ],
   "source": [
    "[\" \".join(get_lemmatized_words(x[\"název (anglicky)\"])) for x in data[:2] if len(x[\"název (anglicky)\"]) > 2 and len(x[\"katedra\"]) > 1]"
   ]
  },
  {
   "cell_type": "code",
   "execution_count": 12,
   "metadata": {
    "collapsed": true
   },
   "outputs": [],
   "source": [
    "from sklearn.feature_extraction.text import TfidfVectorizer\n",
    "names_list = [\" \".join(get_lemmatized_words(x[\"název (anglicky)\"])) for x in data if len(x[\"název (anglicky)\"]) > 2 and len(x[\"katedra\"]) > 1]"
   ]
  },
  {
   "cell_type": "code",
   "execution_count": 15,
   "metadata": {
    "collapsed": false,
    "deletable": true,
    "editable": true
   },
   "outputs": [],
   "source": [
    "vectorizer = TfidfVectorizer(use_idf=True, ngram_range=(1,3), min_df=1) # min_df if int then it is absolute value\n",
    "X = vectorizer.fit_transform(names_list)\n",
    "    "
   ]
  },
  {
   "cell_type": "code",
   "execution_count": 16,
   "metadata": {
    "collapsed": false,
    "scrolled": true
   },
   "outputs": [
    {
     "data": {
      "text/plain": [
       "<1x25169 sparse matrix of type '<class 'numpy.float64'>'\n",
       "\twith 12 stored elements in Compressed Sparse Row format>"
      ]
     },
     "execution_count": 16,
     "metadata": {},
     "output_type": "execute_result"
    }
   ],
   "source": [
    "X[0]"
   ]
  },
  {
   "cell_type": "code",
   "execution_count": 17,
   "metadata": {
    "collapsed": false
   },
   "outputs": [
    {
     "name": "stdout",
     "output_type": "stream",
     "text": [
      "  (0, 18635)\t0.309093230645\n",
      "  (0, 5759)\t0.309093230645\n",
      "  (0, 12116)\t0.200783367841\n",
      "  (0, 14550)\t0.229641356648\n",
      "  (0, 9109)\t0.217032853369\n",
      "  (0, 18636)\t0.309093230645\n",
      "  (0, 5760)\t0.309093230645\n",
      "  (0, 12147)\t0.309093230645\n",
      "  (0, 14555)\t0.309093230645\n",
      "  (0, 18637)\t0.309093230645\n",
      "  (0, 5761)\t0.309093230645\n",
      "  (0, 12148)\t0.309093230645\n"
     ]
    }
   ],
   "source": [
    "print (X[0])"
   ]
  },
  {
   "cell_type": "code",
   "execution_count": 19,
   "metadata": {
    "collapsed": false
   },
   "outputs": [
    {
     "data": {
      "text/plain": [
       "TruncatedSVD(algorithm='randomized', n_components=20, n_iter=100,\n",
       "       random_state=None, tol=0.0)"
      ]
     },
     "execution_count": 19,
     "metadata": {},
     "output_type": "execute_result"
    }
   ],
   "source": [
    "from sklearn.decomposition import TruncatedSVD\n",
    "lsa = TruncatedSVD(n_components=20, n_iter=100)\n",
    "lsa.fit(X)"
   ]
  },
  {
   "cell_type": "markdown",
   "metadata": {},
   "source": [
    "**LSA**\n",
    "\n",
    "Input: X, a matrix where m is the number of documents I have, and n is the number of terms.\n",
    "Process: I'm going to decompose X into three matricies called U, S, and T. When we do the decomposition, we have to pick a value k, that's how many concepts we are going to keep.\n",
    "$$X \\approx USV^{T}$$\n",
    "U will be a m x k matrix. The rows will be documents and the columns will be 'concepts'\n",
    "S will be a k x k diagnal matrix. The elements will be the amount of variation captured from each concept.\n",
    "V will be a n x k (mind the transpose) matrix. The rows will be terms and the columns will be conepts."
   ]
  },
  {
   "cell_type": "code",
   "execution_count": 21,
   "metadata": {
    "collapsed": false
   },
   "outputs": [
    {
     "data": {
      "text/plain": [
       "(25169,)"
      ]
     },
     "execution_count": 21,
     "metadata": {},
     "output_type": "execute_result"
    }
   ],
   "source": [
    "lsa.components_[0].shape"
   ]
  },
  {
   "cell_type": "code",
   "execution_count": 22,
   "metadata": {
    "collapsed": false,
    "deletable": true,
    "editable": true
   },
   "outputs": [
    {
     "name": "stdout",
     "output_type": "stream",
     "text": [
      "Concept 0:\n",
      "system\n",
      "information\n",
      "information system\n",
      "management\n",
      "management system\n",
      "web\n",
      "project\n",
      "support\n",
      "content management\n",
      "content management system\n",
      " \n",
      "Concept 1:\n",
      "management\n",
      "web\n",
      "application\n",
      "management system\n",
      "content\n",
      "project\n",
      "web application\n",
      "content management\n",
      "content management system\n",
      "project management\n",
      " \n",
      "Concept 2:\n",
      "management\n",
      "management system\n",
      "content management\n",
      "content management system\n",
      "content\n",
      "system\n",
      "project management\n",
      "project\n",
      "document management\n",
      "document\n",
      " \n",
      "Concept 3:\n",
      "network\n",
      "implementation\n",
      "data\n",
      "computer\n",
      "computer network\n",
      "neural\n",
      "neural network\n",
      "design\n",
      "user\n",
      "user interface\n",
      " \n",
      "Concept 4:\n",
      "interface\n",
      "user\n",
      "user interface\n",
      "graphical\n",
      "graphical user\n",
      "graphical user interface\n",
      "design\n",
      "system\n",
      "web interface\n",
      "interface design\n",
      " \n",
      "Concept 5:\n",
      "project\n",
      "project management\n",
      "management\n",
      "application\n",
      "software\n",
      "support\n",
      "tool\n",
      "information\n",
      "information system\n",
      "management software\n",
      " \n",
      "Concept 6:\n",
      "implementation\n",
      "data\n",
      "application\n",
      "design\n",
      "system\n",
      "design implementation\n",
      "database\n",
      "algorithm\n",
      "mobile\n",
      "compression\n",
      " \n",
      "Concept 7:\n",
      "implementation\n",
      "web\n",
      "portal\n",
      "project\n",
      "tool\n",
      "data\n",
      "project management\n",
      "software\n",
      "service\n",
      "web portal\n",
      " \n",
      "Concept 8:\n",
      "implementation\n",
      "design\n",
      "design implementation\n",
      "application\n",
      "information\n",
      "information system\n",
      "network\n",
      "computer\n",
      "game\n",
      "computer network\n",
      " \n",
      "Concept 9:\n",
      "system\n",
      "project\n",
      "support\n",
      "reservation system\n",
      "reservation\n",
      "database\n",
      "software\n",
      "project management\n",
      "booking\n",
      "booking system\n",
      " \n",
      "Concept 10:\n",
      "portal\n",
      "mobile\n",
      "web portal\n",
      "bozp\n",
      "bozp portal\n",
      "information portal\n",
      "android\n",
      "device\n",
      "support\n",
      "mobile application\n",
      " \n",
      "Concept 11:\n",
      "editor\n",
      "model\n",
      "tool\n",
      "3d\n",
      "algorithm\n",
      "support\n",
      "database\n",
      "3d model\n",
      "simulation\n",
      "graph\n",
      " \n",
      "Concept 12:\n",
      "database\n",
      "tool\n",
      "xml\n",
      "xml database\n",
      "native xml\n",
      "native\n",
      "portal\n",
      "native xml database\n",
      "database system\n",
      "application\n",
      " \n",
      "Concept 13:\n",
      "game\n",
      "database\n",
      "editor\n",
      "mobile\n",
      "xml\n",
      "android\n",
      "client\n",
      "service\n",
      "xml database\n",
      "engine\n",
      " \n",
      "Concept 14:\n",
      "support\n",
      "tool\n",
      "mobile\n",
      "server\n",
      "service\n",
      "game\n",
      "content\n",
      "content management\n",
      "content management system\n",
      "process\n",
      " \n",
      "Concept 15:\n",
      "algorithm\n",
      "tool\n",
      "game\n",
      "tree\n",
      "mobile\n",
      "optimization\n",
      "visualization\n",
      "test\n",
      "graph\n",
      "pattern\n",
      " \n",
      "Concept 16:\n",
      "editor\n",
      "support\n",
      "graphical\n",
      "data\n",
      "graphical editor\n",
      "implementation\n",
      "php\n",
      "application\n",
      "graph\n",
      "advanced\n",
      " \n",
      "Concept 17:\n",
      "game\n",
      "support\n",
      "computer\n",
      "application\n",
      "computer network\n",
      "data\n",
      "database\n",
      "emulator\n",
      "engine\n",
      "computer network emulator\n",
      " \n",
      "Concept 18:\n",
      "support\n",
      "algorithm\n",
      "database\n",
      "software\n",
      "client\n",
      "xml\n",
      "control\n",
      "education\n",
      "web\n",
      "system support\n",
      " \n",
      "Concept 19:\n",
      "computer\n",
      "computer network\n",
      "emulator\n",
      "computer network emulator\n",
      "network emulator\n",
      "model\n",
      "extension\n",
      "3d\n",
      "tool\n",
      "mobile\n",
      " \n"
     ]
    }
   ],
   "source": [
    "terms = vectorizer.get_feature_names()\n",
    "for i, comp in enumerate(lsa.components_): \n",
    "    termsInComp = zip (terms,comp)\n",
    "    sortedTerms =  sorted(termsInComp, key=lambda x: x[1], reverse=True) [:10]\n",
    "    print(\"Concept %d:\" % i )\n",
    "    for term in sortedTerms:\n",
    "        print(term[0])\n",
    "    print (\" \")"
   ]
  },
  {
   "cell_type": "code",
   "execution_count": null,
   "metadata": {
    "collapsed": true
   },
   "outputs": [],
   "source": []
  }
 ],
 "metadata": {
  "kernelspec": {
   "display_name": "Python 3",
   "language": "python",
   "name": "python3"
  },
  "language_info": {
   "codemirror_mode": {
    "name": "ipython",
    "version": 3
   },
   "file_extension": ".py",
   "mimetype": "text/x-python",
   "name": "python",
   "nbconvert_exporter": "python",
   "pygments_lexer": "ipython3",
   "version": "3.5.2"
  }
 },
 "nbformat": 4,
 "nbformat_minor": 2
}
